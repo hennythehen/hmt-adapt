{
 "cells": [
  {
   "cell_type": "code",
   "execution_count": 38,
   "metadata": {
    "collapsed": true
   },
   "outputs": [],
   "source": [
    "from __future__ import print_function\n",
    "\n",
    "import numpy as np\n",
    "import pandas as pd\n",
    "\n",
    "from sklearn.preprocessing import normalize\n",
    "import sklearn.cluster as skc\n",
    "\n",
    "import matplotlib.pyplot as plt\n",
    "%matplotlib inline\n"
   ]
  },
  {
   "cell_type": "code",
   "execution_count": 2,
   "metadata": {
    "collapsed": true
   },
   "outputs": [],
   "source": [
    "RANGE = 10\n",
    "COLORS = [\n",
    "    'blue',\n",
    "    'green',\n",
    "    'cyan',\n",
    "    'magenta',\n",
    "    'yellow',\n",
    "    'purple',\n",
    "    'orange',\n",
    "    'lime',\n",
    "    'pink',\n",
    "    'yellowgreen',\n",
    "    'brown',\n",
    "    'coral',\n",
    "    'indigo',\n",
    "    'ivory',\n",
    "    'khaki',\n",
    "    'lavender',\n",
    "    'lightblue',\n",
    "    'lightgreen',\n",
    "    'maroon',\n",
    "    'orchid',\n",
    "    'tan',\n",
    "    'aqua',\n",
    "    'black'\n",
    "]"
   ]
  },
  {
   "cell_type": "code",
   "execution_count": 3,
   "metadata": {
    "collapsed": true
   },
   "outputs": [],
   "source": [
    "queries = np.random.rand(1, 2)"
   ]
  },
  {
   "cell_type": "code",
   "execution_count": 4,
   "metadata": {
    "collapsed": false
   },
   "outputs": [],
   "source": [
    "n_past_queries = 2\n",
    "\n",
    "past_queries = np.random.rand(n_past_queries, 4)\n",
    "past_queries[:, 2] = np.random.randint(0, 50, size=n_past_queries)\n",
    "past_queries[:, 3] = np.random.randint(0, 5, size=n_past_queries)\n",
    "\n",
    "past_queries = pd.DataFrame(past_queries, columns=(\"Confidence\", \"GCS Arrival Time\", \"User Id\", \"Mission Id\"))"
   ]
  },
  {
   "cell_type": "code",
   "execution_count": 189,
   "metadata": {
    "collapsed": false
   },
   "outputs": [],
   "source": [
    "past_queries = np.array([[0.5, 15],[0.8, 32]], np.float64)"
   ]
  },
  {
   "cell_type": "code",
   "execution_count": 190,
   "metadata": {
    "collapsed": false,
    "scrolled": true
   },
   "outputs": [
    {
     "name": "stdout",
     "output_type": "stream",
     "text": [
      "Past Queries\n",
      "[[  0.5  15. ]\n",
      " [  0.8  32. ]]\n"
     ]
    }
   ],
   "source": [
    "print(\"Past Queries\")\n",
    "print(past_queries)"
   ]
  },
  {
   "cell_type": "code",
   "execution_count": 191,
   "metadata": {
    "collapsed": true
   },
   "outputs": [],
   "source": [
    "new_queries = np.array([[0.6, 16], [0.9, 33]], dtype=np.float64)"
   ]
  },
  {
   "cell_type": "code",
   "execution_count": 192,
   "metadata": {
    "collapsed": false
   },
   "outputs": [
    {
     "name": "stdout",
     "output_type": "stream",
     "text": [
      "New Queries\n",
      "[[  0.6  16. ]\n",
      " [  0.9  33. ]]\n"
     ]
    }
   ],
   "source": [
    "print(\"New Queries\")\n",
    "print(new_queries)"
   ]
  },
  {
   "cell_type": "code",
   "execution_count": 57,
   "metadata": {
    "collapsed": false
   },
   "outputs": [],
   "source": [
    "normalized_past_queries = normalize(past_queries)\n",
    "normalized_new_queries = normalize(new_queries)\n",
    "\n",
    "model = skc.DBSCAN(eps=0.011, min_samples=4).fit(normalized_past_queries)\n",
    "\n",
    "labels = model.labels_"
   ]
  },
  {
   "cell_type": "code",
   "execution_count": 58,
   "metadata": {
    "collapsed": false
   },
   "outputs": [
    {
     "name": "stdout",
     "output_type": "stream",
     "text": [
      "Cluster Labels\n",
      "[-1 -1]\n"
     ]
    }
   ],
   "source": [
    "print(\"Cluster Labels\")\n",
    "print(labels)"
   ]
  },
  {
   "cell_type": "code",
   "execution_count": 59,
   "metadata": {
    "collapsed": false,
    "scrolled": true
   },
   "outputs": [
    {
     "data": {
      "text/plain": [
       "[]"
      ]
     },
     "execution_count": 59,
     "metadata": {},
     "output_type": "execute_result"
    },
    {
     "data": {
      "image/png": "[encoded data removed]",
      "text/plain": [
       "<matplotlib.figure.Figure at 0x109da0f0>"
      ]
     },
     "metadata": {},
     "output_type": "display_data"
    }
   ],
   "source": [
    "fig,ax = plt.subplots(1)\n",
    "\n",
    "# ONLY FOR 2D GRAPH\n",
    "for i in xrange(normalized_past_queries.shape[0]):\n",
    "    ax.scatter(normalized_past_queries[:, 0][i], normalized_past_queries[:, 1][i], color=COLORS[labels[i]])\n",
    "    \n",
    "# Plot the new query.\n",
    "ax.scatter(normalized_new_queries[:, 0], normalized_new_queries[:, 1], color=\"Red\")\n",
    "\n",
    "plt.xlabel('Type')\n",
    "plt.ylabel('Confidence')\n",
    "\n",
    "# Turn off tick labels\n",
    "ax.set_yticklabels([])\n",
    "ax.set_xticklabels([])"
   ]
  },
  {
   "cell_type": "code",
   "execution_count": 69,
   "metadata": {
    "collapsed": false
   },
   "outputs": [
    {
     "data": {
      "image/png": "[encoded data removed]",
      "text/plain": [
       "<matplotlib.figure.Figure at 0x11988780>"
      ]
     },
     "metadata": {},
     "output_type": "display_data"
    }
   ],
   "source": [
    "plt.subplot(211)\n",
    "\n",
    "plt.scatter(normalized_past_queries[:, 0], normalized_past_queries[:, 1], color=\"Black\", label=\"Past Queries\")  \n",
    "\n",
    "# Plot the new query.\n",
    "plt.scatter(normalized_new_queries[:, 0], normalized_new_queries[:, 1], color=\"Red\", label=\"New Queries\")\n",
    "# Place a legend above this subplot, expanding itself to\n",
    "# fully use the given bounding box.\n",
    "plt.legend(bbox_to_anchor=(0., 1.02, 1., .102), loc=3,\n",
    "           ncol=2, mode=\"expand\", borderaxespad=0.)\n",
    "\n",
    "\n",
    "# Place a legend to the right of this smaller subplot.\n",
    "plt.legend(bbox_to_anchor=(1.05, 1), loc=2, borderaxespad=0.)\n",
    "\n",
    "plt.show()"
   ]
  },
  {
   "cell_type": "code",
   "execution_count": 214,
   "metadata": {
    "collapsed": false
   },
   "outputs": [
    {
     "data": {
      "text/plain": [
       "array([[  0.6,  16. ],\n",
       "       [  0.9,  33. ]])"
      ]
     },
     "execution_count": 214,
     "metadata": {},
     "output_type": "execute_result"
    }
   ],
   "source": [
    "new_queries"
   ]
  },
  {
   "cell_type": "code",
   "execution_count": 213,
   "metadata": {
    "collapsed": false
   },
   "outputs": [
    {
     "data": {
      "text/plain": [
       "array([[  0.5,  15. ],\n",
       "       [  0.8,  32. ]])"
      ]
     },
     "execution_count": 213,
     "metadata": {},
     "output_type": "execute_result"
    }
   ],
   "source": [
    "past_queries"
   ]
  },
  {
   "cell_type": "code",
   "execution_count": 209,
   "metadata": {
    "collapsed": false
   },
   "outputs": [
    {
     "name": "stdout",
     "output_type": "stream",
     "text": [
      "[[  1.00498756  16.00124995]\n",
      " [ 18.0044439    1.00498756]]\n"
     ]
    }
   ],
   "source": [
    "M = np.dot(new_queries, past_queries.T)\n",
    "te = np.square(new_queries).sum(axis=1)\n",
    "tr = np.square(past_queries).sum(axis=1)\n",
    "dists = np.sqrt(-2*M + np.matrix(tr) + np.matrix(te).T)\n",
    "print(dists)"
   ]
  },
  {
   "cell_type": "code",
   "execution_count": 210,
   "metadata": {
    "collapsed": false
   },
   "outputs": [
    {
     "data": {
      "text/plain": [
       "matrix([[0, 1]], dtype=int64)"
      ]
     },
     "execution_count": 210,
     "metadata": {},
     "output_type": "execute_result"
    }
   ],
   "source": [
    "np.argmin(dists, axis=0)"
   ]
  },
  {
   "cell_type": "code",
   "execution_count": null,
   "metadata": {
    "collapsed": true
   },
   "outputs": [],
   "source": []
  },
  {
   "cell_type": "code",
   "execution_count": 212,
   "metadata": {
    "collapsed": false
   },
   "outputs": [
    {
     "data": {
      "text/plain": [
       "array([[  0.5,  15. ],\n",
       "       [  0.8,  32. ]])"
      ]
     },
     "execution_count": 212,
     "metadata": {},
     "output_type": "execute_result"
    }
   ],
   "source": [
    "past_queries"
   ]
  },
  {
   "cell_type": "code",
   "execution_count": 215,
   "metadata": {
    "collapsed": false
   },
   "outputs": [
    {
     "data": {
      "text/plain": [
       "array([-1, -1], dtype=int64)"
      ]
     },
     "execution_count": 215,
     "metadata": {},
     "output_type": "execute_result"
    }
   ],
   "source": [
    "labels"
   ]
  },
  {
   "cell_type": "code",
   "execution_count": null,
   "metadata": {
    "collapsed": true
   },
   "outputs": [],
   "source": []
  },
  {
   "cell_type": "code",
   "execution_count": 78,
   "metadata": {
    "collapsed": false
   },
   "outputs": [
    {
     "data": {
      "text/plain": [
       "array([[ 0.03331483,  0.99944491],\n",
       "       [ 0.02499219,  0.99968765]])"
      ]
     },
     "execution_count": 78,
     "metadata": {},
     "output_type": "execute_result"
    }
   ],
   "source": [
    "normalized_past_queries"
   ]
  },
  {
   "cell_type": "code",
   "execution_count": 79,
   "metadata": {
    "collapsed": false
   },
   "outputs": [
    {
     "data": {
      "text/plain": [
       "array([[ 0.03747366,  0.99929762],\n",
       "       [ 0.02726259,  0.99962831]])"
      ]
     },
     "execution_count": 79,
     "metadata": {},
     "output_type": "execute_result"
    }
   ],
   "source": [
    "normalized_new_queries"
   ]
  },
  {
   "cell_type": "code",
   "execution_count": 174,
   "metadata": {
    "collapsed": true
   },
   "outputs": [],
   "source": [
    "from scipy.spatial import distance"
   ]
  },
  {
   "cell_type": "code",
   "execution_count": 101,
   "metadata": {
    "collapsed": false
   },
   "outputs": [],
   "source": [
    "distances = distance.cdist(normalized_past_queries, normalized_new_queries, 'euclidean')"
   ]
  },
  {
   "cell_type": "code",
   "execution_count": 102,
   "metadata": {
    "collapsed": false
   },
   "outputs": [
    {
     "data": {
      "text/plain": [
       "array([[ 0.00416144,  0.00605502],\n",
       "       [ 0.01248756,  0.00227117]])"
      ]
     },
     "execution_count": 102,
     "metadata": {},
     "output_type": "execute_result"
    }
   ],
   "source": [
    "distances"
   ]
  },
  {
   "cell_type": "code",
   "execution_count": 136,
   "metadata": {
    "collapsed": false
   },
   "outputs": [
    {
     "name": "stdout",
     "output_type": "stream",
     "text": [
      "[ 0.03747366  0.99929762]\n",
      "[ 0.03331483  0.99944491]\n",
      "0.00416143781066\n",
      "[ 0.02499219  0.99968765]\n",
      "0.0124875619338\n",
      "[ 0.02726259  0.99962831]\n",
      "[ 0.03331483  0.99944491]\n",
      "0.00605501817276\n",
      "[ 0.02499219  0.99968765]\n",
      "0.00227117434854\n"
     ]
    }
   ],
   "source": [
    "for new_query in normalized_new_queries:\n",
    "    print(new_query)\n",
    "    for past_query in normalized_past_queries:\n",
    "        print(past_query)\n",
    "        print(np.linalg.norm(new_query - past_query))"
   ]
  },
  {
   "cell_type": "code",
   "execution_count": 137,
   "metadata": {
    "collapsed": false
   },
   "outputs": [
    {
     "data": {
      "text/plain": [
       "0.004011540000000036"
      ]
     },
     "execution_count": 137,
     "metadata": {},
     "output_type": "execute_result"
    }
   ],
   "source": [
    "abs((0.03747366 + 0.99929762) - (0.03331483 + 0.99944491))"
   ]
  },
  {
   "cell_type": "code",
   "execution_count": 135,
   "metadata": {
    "collapsed": false
   },
   "outputs": [
    {
     "data": {
      "text/plain": [
       "31.763228719999997"
      ]
     },
     "execution_count": 135,
     "metadata": {},
     "output_type": "execute_result"
    }
   ],
   "source": [
    "abs((0.03747366 + 0.99929762) - (0.8 + 32.))"
   ]
  },
  {
   "cell_type": "code",
   "execution_count": 127,
   "metadata": {
    "collapsed": false
   },
   "outputs": [
    {
     "name": "stdout",
     "output_type": "stream",
     "text": [
      "[ 0.0047382  0.0001588]\n"
     ]
    }
   ],
   "source": [
    "print(np.linalg.norm(normalized_new_queries - normalized_past_queries, axis=0))"
   ]
  },
  {
   "cell_type": "code",
   "execution_count": null,
   "metadata": {
    "collapsed": true
   },
   "outputs": [],
   "source": []
  },
  {
   "cell_type": "code",
   "execution_count": 193,
   "metadata": {
    "collapsed": false
   },
   "outputs": [
    {
     "data": {
      "text/plain": [
       "array([[  0.6,  16. ],\n",
       "       [  0.9,  33. ]])"
      ]
     },
     "execution_count": 193,
     "metadata": {},
     "output_type": "execute_result"
    }
   ],
   "source": [
    "new_queries"
   ]
  },
  {
   "cell_type": "code",
   "execution_count": 194,
   "metadata": {
    "collapsed": false
   },
   "outputs": [
    {
     "data": {
      "text/plain": [
       "array([[  0.5,  15. ],\n",
       "       [  0.8,  32. ]])"
      ]
     },
     "execution_count": 194,
     "metadata": {},
     "output_type": "execute_result"
    }
   ],
   "source": [
    "past_queries"
   ]
  },
  {
   "cell_type": "code",
   "execution_count": 195,
   "metadata": {
    "collapsed": false
   },
   "outputs": [],
   "source": [
    "num_test = new_queries.shape[0]\n",
    "num_train = past_queries.shape[0]\n",
    "dists = np.zeros((num_test, num_train))\n",
    "for i in xrange(num_test):\n",
    "    for j in xrange(num_train):\n",
    "        #####################################################################\n",
    "        # Compute the l2 distance between the ith test point and the jth    #\n",
    "        # training point, and store the result in dists[i, j]               #\n",
    "        #####################################################################\n",
    "        dists[i,j] = np.sqrt(np.sum(np.square(new_queries[i,:]-past_queries[j,:])))"
   ]
  },
  {
   "cell_type": "code",
   "execution_count": 196,
   "metadata": {
    "collapsed": false
   },
   "outputs": [
    {
     "data": {
      "text/plain": [
       "1.0488088481701516"
      ]
     },
     "execution_count": 196,
     "metadata": {},
     "output_type": "execute_result"
    }
   ],
   "source": [
    "np.sqrt(1.1)"
   ]
  },
  {
   "cell_type": "code",
   "execution_count": 197,
   "metadata": {
    "collapsed": false
   },
   "outputs": [
    {
     "data": {
      "text/plain": [
       "array([[  1.00498756,  16.00124995],\n",
       "       [ 18.0044439 ,   1.00498756]])"
      ]
     },
     "execution_count": 197,
     "metadata": {},
     "output_type": "execute_result"
    }
   ],
   "source": [
    "dists"
   ]
  },
  {
   "cell_type": "code",
   "execution_count": 199,
   "metadata": {
    "collapsed": false
   },
   "outputs": [
    {
     "data": {
      "text/plain": [
       "matrix([[  1.00498756,  16.00124995],\n",
       "        [ 18.0044439 ,   1.00498756]])"
      ]
     },
     "execution_count": 199,
     "metadata": {},
     "output_type": "execute_result"
    }
   ],
   "source": [
    "dists"
   ]
  },
  {
   "cell_type": "code",
   "execution_count": 200,
   "metadata": {
    "collapsed": true
   },
   "outputs": [],
   "source": [
    "M = np.dot(new_queries, past_queries.T)\n",
    "te = np.square(new_queries).sum(axis=1)\n",
    "tr = np.square(past_queries).sum(axis=1)\n",
    "dists = np.sqrt(-2*M + np.matrix(tr) + np.matrix(te).T)"
   ]
  },
  {
   "cell_type": "code",
   "execution_count": 180,
   "metadata": {
    "collapsed": false
   },
   "outputs": [],
   "source": [
    "dists = np.zeros((new_queries.shape[0], past_queries.shape[1]))\n",
    "\n",
    "dists[i,:] = np.sqrt(np.sum(np.square(new_queries[i,:] - past_queries), axis=1))"
   ]
  },
  {
   "cell_type": "code",
   "execution_count": 181,
   "metadata": {
    "collapsed": false
   },
   "outputs": [
    {
     "data": {
      "text/plain": [
       "array([[  0.        ,   0.        ],\n",
       "       [ 18.0044439 ,   1.00498756]])"
      ]
     },
     "execution_count": 181,
     "metadata": {},
     "output_type": "execute_result"
    }
   ],
   "source": [
    "dists"
   ]
  },
  {
   "cell_type": "code",
   "execution_count": 175,
   "metadata": {
    "collapsed": false
   },
   "outputs": [
    {
     "name": "stdout",
     "output_type": "stream",
     "text": [
      "[  0.6  16. ]\n"
     ]
    },
    {
     "ename": "ValueError",
     "evalue": "XB must be a 2-dimensional array.",
     "output_type": "error",
     "traceback": [
      "\u001b[0;31m---------------------------------------------------------------------------\u001b[0m",
      "\u001b[0;31mValueError\u001b[0m                                Traceback (most recent call last)",
      "\u001b[0;32m<ipython-input-175-6048d579d9a1>\u001b[0m in \u001b[0;36m<module>\u001b[0;34m()\u001b[0m\n\u001b[1;32m      3\u001b[0m \u001b[1;32mfor\u001b[0m \u001b[0mnew_query\u001b[0m \u001b[1;32min\u001b[0m \u001b[0mnew_queries\u001b[0m\u001b[1;33m:\u001b[0m\u001b[1;33m\u001b[0m\u001b[0m\n\u001b[1;32m      4\u001b[0m     \u001b[1;32mprint\u001b[0m\u001b[1;33m(\u001b[0m\u001b[0mnew_query\u001b[0m\u001b[1;33m)\u001b[0m\u001b[1;33m\u001b[0m\u001b[0m\n\u001b[0;32m----> 5\u001b[0;31m     \u001b[0mdistance\u001b[0m\u001b[1;33m.\u001b[0m\u001b[0mcdist\u001b[0m\u001b[1;33m(\u001b[0m\u001b[0mpast_queries\u001b[0m\u001b[1;33m,\u001b[0m \u001b[0mnew_query\u001b[0m\u001b[1;33m,\u001b[0m \u001b[1;34m'euclidean'\u001b[0m\u001b[1;33m)\u001b[0m\u001b[1;33m\u001b[0m\u001b[0m\n\u001b[0m\u001b[1;32m      6\u001b[0m     \u001b[0md\u001b[0m \u001b[1;33m=\u001b[0m \u001b[0mdistance\u001b[0m\u001b[1;33m(\u001b[0m\u001b[0mnew_query\u001b[0m \u001b[1;33m-\u001b[0m \u001b[0mpast_queries\u001b[0m\u001b[1;33m,\u001b[0m \u001b[0maxis\u001b[0m\u001b[1;33m=\u001b[0m\u001b[1;36m0\u001b[0m\u001b[1;33m)\u001b[0m\u001b[1;33m\u001b[0m\u001b[0m\n\u001b[1;32m      7\u001b[0m     \u001b[1;32mprint\u001b[0m\u001b[1;33m(\u001b[0m\u001b[0md\u001b[0m\u001b[1;33m)\u001b[0m\u001b[1;33m\u001b[0m\u001b[0m\n",
      "\u001b[0;32mC:\\Users\\eddyc\\Anaconda2\\lib\\site-packages\\scipy\\spatial\\distance.pyc\u001b[0m in \u001b[0;36mcdist\u001b[0;34m(XA, XB, metric, p, V, VI, w)\u001b[0m\n\u001b[1;32m   2027\u001b[0m         \u001b[1;32mraise\u001b[0m \u001b[0mValueError\u001b[0m\u001b[1;33m(\u001b[0m\u001b[1;34m'XA must be a 2-dimensional array.'\u001b[0m\u001b[1;33m)\u001b[0m\u001b[1;33m\u001b[0m\u001b[0m\n\u001b[1;32m   2028\u001b[0m     \u001b[1;32mif\u001b[0m \u001b[0mlen\u001b[0m\u001b[1;33m(\u001b[0m\u001b[0msB\u001b[0m\u001b[1;33m)\u001b[0m \u001b[1;33m!=\u001b[0m \u001b[1;36m2\u001b[0m\u001b[1;33m:\u001b[0m\u001b[1;33m\u001b[0m\u001b[0m\n\u001b[0;32m-> 2029\u001b[0;31m         \u001b[1;32mraise\u001b[0m \u001b[0mValueError\u001b[0m\u001b[1;33m(\u001b[0m\u001b[1;34m'XB must be a 2-dimensional array.'\u001b[0m\u001b[1;33m)\u001b[0m\u001b[1;33m\u001b[0m\u001b[0m\n\u001b[0m\u001b[1;32m   2030\u001b[0m     \u001b[1;32mif\u001b[0m \u001b[0ms\u001b[0m\u001b[1;33m[\u001b[0m\u001b[1;36m1\u001b[0m\u001b[1;33m]\u001b[0m \u001b[1;33m!=\u001b[0m \u001b[0msB\u001b[0m\u001b[1;33m[\u001b[0m\u001b[1;36m1\u001b[0m\u001b[1;33m]\u001b[0m\u001b[1;33m:\u001b[0m\u001b[1;33m\u001b[0m\u001b[0m\n\u001b[1;32m   2031\u001b[0m         raise ValueError('XA and XB must have the same number of columns '\n",
      "\u001b[0;31mValueError\u001b[0m: XB must be a 2-dimensional array."
     ]
    }
   ],
   "source": [
    "distances\n",
    "\n",
    "for new_query in new_queries:\n",
    "    print(new_query)\n",
    "    distance.cdist(past_queries, new_query, 'euclidean')\n",
    "    d = distance(new_query - past_queries, axis=0)\n",
    "    print(d)\n",
    "    print(d.sum(axis=0))\n",
    "    print()"
   ]
  },
  {
   "cell_type": "code",
   "execution_count": null,
   "metadata": {
    "collapsed": true
   },
   "outputs": [],
   "source": []
  },
  {
   "cell_type": "code",
   "execution_count": null,
   "metadata": {
    "collapsed": true
   },
   "outputs": [],
   "source": []
  },
  {
   "cell_type": "code",
   "execution_count": null,
   "metadata": {
    "collapsed": true
   },
   "outputs": [],
   "source": []
  },
  {
   "cell_type": "code",
   "execution_count": null,
   "metadata": {
    "collapsed": true
   },
   "outputs": [],
   "source": []
  },
  {
   "cell_type": "code",
   "execution_count": 21,
   "metadata": {
    "collapsed": false
   },
   "outputs": [
    {
     "data": {
      "text/plain": [
       "array([ 0.94489323,  0.931707  ])"
      ]
     },
     "execution_count": 21,
     "metadata": {},
     "output_type": "execute_result"
    }
   ],
   "source": [
    "query"
   ]
  },
  {
   "cell_type": "code",
   "execution_count": 19,
   "metadata": {
    "collapsed": false
   },
   "outputs": [
    {
     "data": {
      "text/plain": [
       "array([[-0.9066548 ,  0.06756165],\n",
       "       [-0.65836678,  0.02636533]])"
      ]
     },
     "execution_count": 19,
     "metadata": {},
     "output_type": "execute_result"
    }
   ],
   "source": [
    "normalized_queries - query "
   ]
  },
  {
   "cell_type": "code",
   "execution_count": 12,
   "metadata": {
    "collapsed": false
   },
   "outputs": [
    {
     "name": "stdout",
     "output_type": "stream",
     "text": [
      "[ 0.94489323  0.931707  ]\n"
     ]
    },
    {
     "ename": "ValueError",
     "evalue": "Wrong number of items passed 2, placement implies 4",
     "output_type": "error",
     "traceback": [
      "\u001b[0;31m---------------------------------------------------------------------------\u001b[0m",
      "\u001b[0;31mValueError\u001b[0m                                Traceback (most recent call last)",
      "\u001b[0;32m<ipython-input-12-ae319a1f6321>\u001b[0m in \u001b[0;36m<module>\u001b[0;34m()\u001b[0m\n\u001b[1;32m      1\u001b[0m \u001b[1;32mfor\u001b[0m \u001b[0mquery\u001b[0m \u001b[1;32min\u001b[0m \u001b[0mqueries\u001b[0m\u001b[1;33m:\u001b[0m\u001b[1;33m\u001b[0m\u001b[0m\n\u001b[1;32m      2\u001b[0m     \u001b[1;32mprint\u001b[0m\u001b[1;33m(\u001b[0m\u001b[0mquery\u001b[0m\u001b[1;33m)\u001b[0m\u001b[1;33m\u001b[0m\u001b[0m\n\u001b[0;32m----> 3\u001b[0;31m     \u001b[0mdist\u001b[0m \u001b[1;33m=\u001b[0m \u001b[0mnp\u001b[0m\u001b[1;33m.\u001b[0m\u001b[0mlinalg\u001b[0m\u001b[1;33m.\u001b[0m\u001b[0mnorm\u001b[0m\u001b[1;33m(\u001b[0m\u001b[0mpast_queries\u001b[0m \u001b[1;33m-\u001b[0m \u001b[0mquery\u001b[0m\u001b[1;33m)\u001b[0m\u001b[1;33m\u001b[0m\u001b[0m\n\u001b[0m",
      "\u001b[0;32mC:\\Users\\eddyc\\Anaconda2\\lib\\site-packages\\pandas\\core\\ops.pyc\u001b[0m in \u001b[0;36mf\u001b[0;34m(self, other, axis, level, fill_value)\u001b[0m\n\u001b[1;32m   1079\u001b[0m                     \u001b[1;31m# casted = self._constructor_sliced(other,\u001b[0m\u001b[1;33m\u001b[0m\u001b[1;33m\u001b[0m\u001b[0m\n\u001b[1;32m   1080\u001b[0m                     \u001b[1;31m#                                   index=self.columns)\u001b[0m\u001b[1;33m\u001b[0m\u001b[1;33m\u001b[0m\u001b[0m\n\u001b[0;32m-> 1081\u001b[0;31m                     \u001b[0mcasted\u001b[0m \u001b[1;33m=\u001b[0m \u001b[0mpd\u001b[0m\u001b[1;33m.\u001b[0m\u001b[0mSeries\u001b[0m\u001b[1;33m(\u001b[0m\u001b[0mother\u001b[0m\u001b[1;33m,\u001b[0m \u001b[0mindex\u001b[0m\u001b[1;33m=\u001b[0m\u001b[0mself\u001b[0m\u001b[1;33m.\u001b[0m\u001b[0mcolumns\u001b[0m\u001b[1;33m)\u001b[0m\u001b[1;33m\u001b[0m\u001b[0m\n\u001b[0m\u001b[1;32m   1082\u001b[0m                 return self._combine_series(casted, na_op, fill_value, axis,\n\u001b[1;32m   1083\u001b[0m                                             level)\n",
      "\u001b[0;32mC:\\Users\\eddyc\\Anaconda2\\lib\\site-packages\\pandas\\core\\series.pyc\u001b[0m in \u001b[0;36m__init__\u001b[0;34m(self, data, index, dtype, name, copy, fastpath)\u001b[0m\n\u001b[1;32m    227\u001b[0m                                        raise_cast_failure=True)\n\u001b[1;32m    228\u001b[0m \u001b[1;33m\u001b[0m\u001b[0m\n\u001b[0;32m--> 229\u001b[0;31m                 \u001b[0mdata\u001b[0m \u001b[1;33m=\u001b[0m \u001b[0mSingleBlockManager\u001b[0m\u001b[1;33m(\u001b[0m\u001b[0mdata\u001b[0m\u001b[1;33m,\u001b[0m \u001b[0mindex\u001b[0m\u001b[1;33m,\u001b[0m \u001b[0mfastpath\u001b[0m\u001b[1;33m=\u001b[0m\u001b[0mTrue\u001b[0m\u001b[1;33m)\u001b[0m\u001b[1;33m\u001b[0m\u001b[0m\n\u001b[0m\u001b[1;32m    230\u001b[0m \u001b[1;33m\u001b[0m\u001b[0m\n\u001b[1;32m    231\u001b[0m         \u001b[0mgeneric\u001b[0m\u001b[1;33m.\u001b[0m\u001b[0mNDFrame\u001b[0m\u001b[1;33m.\u001b[0m\u001b[0m__init__\u001b[0m\u001b[1;33m(\u001b[0m\u001b[0mself\u001b[0m\u001b[1;33m,\u001b[0m \u001b[0mdata\u001b[0m\u001b[1;33m,\u001b[0m \u001b[0mfastpath\u001b[0m\u001b[1;33m=\u001b[0m\u001b[0mTrue\u001b[0m\u001b[1;33m)\u001b[0m\u001b[1;33m\u001b[0m\u001b[0m\n",
      "\u001b[0;32mC:\\Users\\eddyc\\Anaconda2\\lib\\site-packages\\pandas\\core\\internals.pyc\u001b[0m in \u001b[0;36m__init__\u001b[0;34m(self, block, axis, do_integrity_check, fastpath)\u001b[0m\n\u001b[1;32m   3815\u001b[0m         \u001b[1;32mif\u001b[0m \u001b[1;32mnot\u001b[0m \u001b[0misinstance\u001b[0m\u001b[1;33m(\u001b[0m\u001b[0mblock\u001b[0m\u001b[1;33m,\u001b[0m \u001b[0mBlock\u001b[0m\u001b[1;33m)\u001b[0m\u001b[1;33m:\u001b[0m\u001b[1;33m\u001b[0m\u001b[0m\n\u001b[1;32m   3816\u001b[0m             block = make_block(block, placement=slice(0, len(axis)), ndim=1,\n\u001b[0;32m-> 3817\u001b[0;31m                                fastpath=True)\n\u001b[0m\u001b[1;32m   3818\u001b[0m \u001b[1;33m\u001b[0m\u001b[0m\n\u001b[1;32m   3819\u001b[0m         \u001b[0mself\u001b[0m\u001b[1;33m.\u001b[0m\u001b[0mblocks\u001b[0m \u001b[1;33m=\u001b[0m \u001b[1;33m[\u001b[0m\u001b[0mblock\u001b[0m\u001b[1;33m]\u001b[0m\u001b[1;33m\u001b[0m\u001b[0m\n",
      "\u001b[0;32mC:\\Users\\eddyc\\Anaconda2\\lib\\site-packages\\pandas\\core\\internals.pyc\u001b[0m in \u001b[0;36mmake_block\u001b[0;34m(values, placement, klass, ndim, dtype, fastpath)\u001b[0m\n\u001b[1;32m   2516\u001b[0m                      placement=placement, dtype=dtype)\n\u001b[1;32m   2517\u001b[0m \u001b[1;33m\u001b[0m\u001b[0m\n\u001b[0;32m-> 2518\u001b[0;31m     \u001b[1;32mreturn\u001b[0m \u001b[0mklass\u001b[0m\u001b[1;33m(\u001b[0m\u001b[0mvalues\u001b[0m\u001b[1;33m,\u001b[0m \u001b[0mndim\u001b[0m\u001b[1;33m=\u001b[0m\u001b[0mndim\u001b[0m\u001b[1;33m,\u001b[0m \u001b[0mfastpath\u001b[0m\u001b[1;33m=\u001b[0m\u001b[0mfastpath\u001b[0m\u001b[1;33m,\u001b[0m \u001b[0mplacement\u001b[0m\u001b[1;33m=\u001b[0m\u001b[0mplacement\u001b[0m\u001b[1;33m)\u001b[0m\u001b[1;33m\u001b[0m\u001b[0m\n\u001b[0m\u001b[1;32m   2519\u001b[0m \u001b[1;33m\u001b[0m\u001b[0m\n\u001b[1;32m   2520\u001b[0m \u001b[1;31m# TODO: flexible with index=None and/or items=None\u001b[0m\u001b[1;33m\u001b[0m\u001b[1;33m\u001b[0m\u001b[0m\n",
      "\u001b[0;32mC:\\Users\\eddyc\\Anaconda2\\lib\\site-packages\\pandas\\core\\internals.pyc\u001b[0m in \u001b[0;36m__init__\u001b[0;34m(self, values, placement, ndim, fastpath)\u001b[0m\n\u001b[1;32m     88\u001b[0m             raise ValueError('Wrong number of items passed %d, placement '\n\u001b[1;32m     89\u001b[0m                              'implies %d' % (len(self.values),\n\u001b[0;32m---> 90\u001b[0;31m                                              len(self.mgr_locs)))\n\u001b[0m\u001b[1;32m     91\u001b[0m \u001b[1;33m\u001b[0m\u001b[0m\n\u001b[1;32m     92\u001b[0m     \u001b[1;33m@\u001b[0m\u001b[0mproperty\u001b[0m\u001b[1;33m\u001b[0m\u001b[0m\n",
      "\u001b[0;31mValueError\u001b[0m: Wrong number of items passed 2, placement implies 4"
     ]
    }
   ],
   "source": [
    "for query in queries:\n",
    "    print(query)\n",
    "    dist = np.linalg.norm()"
   ]
  },
  {
   "cell_type": "code",
   "execution_count": 81,
   "metadata": {
    "collapsed": false,
    "scrolled": true
   },
   "outputs": [
    {
     "data": {
      "text/plain": [
       "(1L, 2L)"
      ]
     },
     "execution_count": 81,
     "metadata": {},
     "output_type": "execute_result"
    }
   ],
   "source": [
    "queries.shape"
   ]
  },
  {
   "cell_type": "code",
   "execution_count": 82,
   "metadata": {
    "collapsed": false
   },
   "outputs": [
    {
     "ename": "TypeError",
     "evalue": "norm() takes at least 1 argument (0 given)",
     "output_type": "error",
     "traceback": [
      "\u001b[0;31m---------------------------------------------------------------------------\u001b[0m",
      "\u001b[0;31mTypeError\u001b[0m                                 Traceback (most recent call last)",
      "\u001b[0;32m<ipython-input-82-f150e011b972>\u001b[0m in \u001b[0;36m<module>\u001b[0;34m()\u001b[0m\n\u001b[0;32m----> 1\u001b[0;31m \u001b[0mdist\u001b[0m \u001b[1;33m=\u001b[0m \u001b[0mnp\u001b[0m\u001b[1;33m.\u001b[0m\u001b[0mlinalg\u001b[0m\u001b[1;33m.\u001b[0m\u001b[0mnorm\u001b[0m\u001b[1;33m(\u001b[0m\u001b[1;33m)\u001b[0m\u001b[1;33m\u001b[0m\u001b[0m\n\u001b[0m",
      "\u001b[0;31mTypeError\u001b[0m: norm() takes at least 1 argument (0 given)"
     ]
    }
   ],
   "source": []
  },
  {
   "cell_type": "code",
   "execution_count": 76,
   "metadata": {
    "collapsed": false
   },
   "outputs": [
    {
     "data": {
      "text/plain": [
       "array([[ 0.09522578,  0.3722102 ],\n",
       "       [ 0.85839548,  0.05964212],\n",
       "       [ 0.05069258,  0.30599416],\n",
       "       [ 0.30073792,  0.26384037],\n",
       "       [ 0.98686336,  0.58228599]])"
      ]
     },
     "execution_count": 76,
     "metadata": {},
     "output_type": "execute_result"
    }
   ],
   "source": [
    "queries"
   ]
  },
  {
   "cell_type": "code",
   "execution_count": 71,
   "metadata": {
    "collapsed": false,
    "scrolled": true
   },
   "outputs": [
    {
     "data": {
      "text/plain": [
       "array([[ 0.76761036,  0.64091679],\n",
       "       [ 0.15033378,  0.9886353 ],\n",
       "       [ 0.58591577,  0.81037196],\n",
       "       [ 0.9822588 ,  0.18753039],\n",
       "       [ 0.61825599,  0.7859768 ],\n",
       "       [ 0.86233108,  0.50634486],\n",
       "       [ 0.77003937,  0.63799637],\n",
       "       [ 0.40685831,  0.91349128],\n",
       "       [ 0.66343197,  0.74823661],\n",
       "       [ 0.92395398,  0.38250364],\n",
       "       [ 0.84991578,  0.52691856],\n",
       "       [ 0.46640421,  0.88457171],\n",
       "       [ 0.51781954,  0.85548988],\n",
       "       [ 0.76788157,  0.64059183],\n",
       "       [ 0.96621986,  0.2577192 ],\n",
       "       [ 0.99648987,  0.08371343],\n",
       "       [ 0.99199796,  0.12625393],\n",
       "       [ 0.26876561,  0.96320561],\n",
       "       [ 0.47516757,  0.87989532],\n",
       "       [ 0.71351295,  0.70064204],\n",
       "       [ 0.42809113,  0.90373557],\n",
       "       [ 0.33139521,  0.94349203],\n",
       "       [ 0.98171434,  0.19036008],\n",
       "       [ 0.99999864,  0.00165072],\n",
       "       [ 0.6938168 ,  0.72015154],\n",
       "       [ 0.67553249,  0.73733022],\n",
       "       [ 0.42542854,  0.90499202],\n",
       "       [ 0.82497536,  0.5651687 ],\n",
       "       [ 0.99307187,  0.11750858],\n",
       "       [ 0.82059468,  0.5715106 ],\n",
       "       [ 0.94871647,  0.31612824],\n",
       "       [ 0.78493558,  0.61957739],\n",
       "       [ 0.85083796,  0.52542817],\n",
       "       [ 0.93880304,  0.34445443],\n",
       "       [ 0.86274213,  0.50564417],\n",
       "       [ 0.39136543,  0.92023535],\n",
       "       [ 0.65282631,  0.75750763],\n",
       "       [ 0.42918257,  0.90321776],\n",
       "       [ 0.82534037,  0.56463552],\n",
       "       [ 0.93266462,  0.36074464],\n",
       "       [ 0.56753317,  0.82335054],\n",
       "       [ 0.53362423,  0.84572169],\n",
       "       [ 0.81670529,  0.577055  ],\n",
       "       [ 0.12934422,  0.99159975],\n",
       "       [ 0.72775084,  0.68584161],\n",
       "       [ 0.8775042 ,  0.47956896],\n",
       "       [ 0.76995354,  0.63809995],\n",
       "       [ 0.4461716 ,  0.89494743],\n",
       "       [ 0.48460691,  0.87473204],\n",
       "       [ 0.37718722,  0.92613703],\n",
       "       [ 0.93084308,  0.36541916],\n",
       "       [ 0.29008907,  0.95699965],\n",
       "       [ 0.54406324,  0.83904421],\n",
       "       [ 0.86209387,  0.50674861],\n",
       "       [ 0.28797335,  0.95763842],\n",
       "       [ 0.99052709,  0.13731748],\n",
       "       [ 0.19244452,  0.98130786],\n",
       "       [ 0.2906999 ,  0.95681428],\n",
       "       [ 0.02067151,  0.99978632],\n",
       "       [ 0.9852416 ,  0.1711695 ],\n",
       "       [ 0.98478786,  0.17376095],\n",
       "       [ 0.24121475,  0.97047176],\n",
       "       [ 0.95447508,  0.29829067],\n",
       "       [ 0.96029688,  0.27898013],\n",
       "       [ 0.22561236,  0.97421715],\n",
       "       [ 0.90096535,  0.43389104],\n",
       "       [ 0.21144225,  0.97739049],\n",
       "       [ 0.86431125,  0.50295732],\n",
       "       [ 0.67537267,  0.73747661],\n",
       "       [ 0.36184682,  0.93223756],\n",
       "       [ 0.94448088,  0.32856639],\n",
       "       [ 0.59836058,  0.80122695],\n",
       "       [ 0.90677562,  0.42161353],\n",
       "       [ 0.89821487,  0.43955664],\n",
       "       [ 0.72798036,  0.68559798],\n",
       "       [ 0.99946278,  0.03277419],\n",
       "       [ 0.92130666,  0.38883677],\n",
       "       [ 0.97871235,  0.20523676],\n",
       "       [ 0.90288595,  0.42988017],\n",
       "       [ 0.63598337,  0.77170276],\n",
       "       [ 0.99698713,  0.0775671 ],\n",
       "       [ 0.93325439,  0.35921616],\n",
       "       [ 0.74741781,  0.66435428],\n",
       "       [ 0.14159995,  0.98992396],\n",
       "       [ 0.50376538,  0.86384052],\n",
       "       [ 0.42714153,  0.90418478],\n",
       "       [ 0.56176786,  0.82729491],\n",
       "       [ 0.79030115,  0.61271861],\n",
       "       [ 0.98681358,  0.16186094],\n",
       "       [ 0.37874765,  0.92549998],\n",
       "       [ 0.86517088,  0.50147717],\n",
       "       [ 0.99896505,  0.04548447],\n",
       "       [ 0.9749524 ,  0.22241362],\n",
       "       [ 0.79069288,  0.61221302],\n",
       "       [ 0.93482922,  0.35509763],\n",
       "       [ 0.96710295,  0.2543853 ],\n",
       "       [ 0.57919737,  0.81518734],\n",
       "       [ 0.41225986,  0.9110663 ],\n",
       "       [ 0.42872658,  0.90343429],\n",
       "       [ 0.97339539,  0.22913189]])"
      ]
     },
     "execution_count": 71,
     "metadata": {},
     "output_type": "execute_result"
    }
   ],
   "source": [
    "normalized_queries"
   ]
  },
  {
   "cell_type": "code",
   "execution_count": 69,
   "metadata": {
    "collapsed": false
   },
   "outputs": [
    {
     "data": {
      "text/plain": [
       "array([ 0, -1, -1, -1, -1,  1,  0, -1, -1, -1, -1, -1, -1,  0, -1, -1, -1,\n",
       "       -1, -1, -1,  2, -1, -1, -1, -1, -1,  2,  3, -1,  3, -1, -1, -1, -1,\n",
       "        1, -1, -1,  2,  3,  4, -1, -1,  3, -1, -1, -1,  0, -1, -1, -1,  4,\n",
       "       -1, -1,  1, -1, -1, -1, -1, -1, -1, -1, -1, -1, -1, -1,  5, -1,  1,\n",
       "       -1, -1, -1, -1,  5,  5, -1, -1, -1, -1,  5, -1, -1,  4, -1, -1, -1,\n",
       "        2, -1, -1, -1, -1,  1, -1, -1, -1,  4, -1, -1, -1,  2, -1], dtype=int64)"
      ]
     },
     "execution_count": 69,
     "metadata": {},
     "output_type": "execute_result"
    }
   ],
   "source": [
    "model.labels_"
   ]
  },
  {
   "cell_type": "code",
   "execution_count": 52,
   "metadata": {
    "collapsed": false
   },
   "outputs": [
    {
     "data": {
      "text/plain": [
       "array([[  2.16414750e-01,   1.83090668e-01,   3.50000000e+01,\n",
       "          2.00000000e+00],\n",
       "       [  6.79596911e-01,   1.27556728e-01,   6.00000000e+00,\n",
       "          4.00000000e+00],\n",
       "       [  5.72057213e-01,   7.03985172e-02,   2.60000000e+01,\n",
       "          1.00000000e+00],\n",
       "       [  1.34186111e-01,   7.60116238e-01,   1.90000000e+01,\n",
       "          0.00000000e+00],\n",
       "       [  3.33154251e-01,   3.02429822e-01,   2.00000000e+00,\n",
       "          3.00000000e+00],\n",
       "       [  3.85064215e-01,   9.33102315e-01,   3.50000000e+01,\n",
       "          0.00000000e+00],\n",
       "       [  2.93926916e-01,   8.64579307e-01,   3.70000000e+01,\n",
       "          1.00000000e+00],\n",
       "       [  6.86352561e-02,   9.25433320e-01,   1.90000000e+01,\n",
       "          2.00000000e+00],\n",
       "       [  6.17883255e-01,   6.27204839e-01,   4.00000000e+01,\n",
       "          1.00000000e+00],\n",
       "       [  1.15181746e-01,   4.76528502e-01,   1.00000000e+00,\n",
       "          4.00000000e+00],\n",
       "       [  6.48681599e-01,   1.94493500e-01,   2.10000000e+01,\n",
       "          0.00000000e+00],\n",
       "       [  7.36808592e-03,   6.31610603e-01,   4.00000000e+01,\n",
       "          4.00000000e+00],\n",
       "       [  1.00059956e-01,   7.73292175e-01,   2.40000000e+01,\n",
       "          0.00000000e+00],\n",
       "       [  3.30574888e-01,   1.05816848e-01,   1.40000000e+01,\n",
       "          2.00000000e+00],\n",
       "       [  1.37251775e-01,   2.31565171e-01,   3.30000000e+01,\n",
       "          4.00000000e+00],\n",
       "       [  9.75417217e-01,   4.13818076e-02,   2.10000000e+01,\n",
       "          3.00000000e+00],\n",
       "       [  7.13767636e-01,   8.19959176e-01,   4.70000000e+01,\n",
       "          1.00000000e+00],\n",
       "       [  9.39686215e-01,   7.02380754e-01,   4.30000000e+01,\n",
       "          2.00000000e+00],\n",
       "       [  1.80060085e-01,   7.41895047e-01,   3.70000000e+01,\n",
       "          0.00000000e+00],\n",
       "       [  1.75175431e-01,   6.84641479e-01,   1.40000000e+01,\n",
       "          1.00000000e+00],\n",
       "       [  1.69957710e-01,   7.21318206e-01,   3.50000000e+01,\n",
       "          0.00000000e+00],\n",
       "       [  5.01933320e-01,   8.30702207e-01,   4.30000000e+01,\n",
       "          2.00000000e+00],\n",
       "       [  8.28965194e-01,   8.92602385e-01,   0.00000000e+00,\n",
       "          3.00000000e+00],\n",
       "       [  6.93984234e-01,   7.55218005e-01,   2.50000000e+01,\n",
       "          0.00000000e+00],\n",
       "       [  8.24616963e-01,   5.58390766e-01,   1.30000000e+01,\n",
       "          4.00000000e+00],\n",
       "       [  3.52966567e-01,   5.86465427e-01,   3.00000000e+00,\n",
       "          1.00000000e+00],\n",
       "       [  7.22062240e-01,   1.54404700e-01,   9.00000000e+00,\n",
       "          0.00000000e+00],\n",
       "       [  2.62867827e-01,   9.87853713e-01,   1.80000000e+01,\n",
       "          0.00000000e+00],\n",
       "       [  8.50310994e-01,   2.01667479e-01,   4.50000000e+01,\n",
       "          2.00000000e+00],\n",
       "       [  3.81490720e-01,   9.06536385e-01,   3.80000000e+01,\n",
       "          1.00000000e+00],\n",
       "       [  4.95249851e-01,   1.90380056e-01,   4.80000000e+01,\n",
       "          0.00000000e+00],\n",
       "       [  8.22977703e-01,   6.63867578e-01,   1.20000000e+01,\n",
       "          1.00000000e+00],\n",
       "       [  3.33535451e-01,   1.85056673e-01,   4.70000000e+01,\n",
       "          3.00000000e+00],\n",
       "       [  5.16366038e-01,   8.80936038e-01,   3.20000000e+01,\n",
       "          0.00000000e+00],\n",
       "       [  5.97093852e-01,   9.12339199e-01,   1.50000000e+01,\n",
       "          0.00000000e+00],\n",
       "       [  4.57222669e-01,   1.20875053e-01,   3.50000000e+01,\n",
       "          1.00000000e+00],\n",
       "       [  9.57955359e-01,   5.96569015e-01,   2.00000000e+00,\n",
       "          2.00000000e+00],\n",
       "       [  1.18921586e-01,   8.80441859e-01,   2.00000000e+01,\n",
       "          4.00000000e+00],\n",
       "       [  5.35804864e-01,   1.94587629e-01,   7.00000000e+00,\n",
       "          4.00000000e+00],\n",
       "       [  1.60334613e-01,   9.33941585e-01,   4.50000000e+01,\n",
       "          1.00000000e+00],\n",
       "       [  3.19327049e-01,   5.05842882e-01,   2.60000000e+01,\n",
       "          3.00000000e+00],\n",
       "       [  1.03009964e-01,   9.40726667e-01,   1.30000000e+01,\n",
       "          4.00000000e+00],\n",
       "       [  3.71019647e-01,   1.61007723e-01,   2.50000000e+01,\n",
       "          4.00000000e+00],\n",
       "       [  9.57212225e-01,   3.23905301e-01,   1.40000000e+01,\n",
       "          2.00000000e+00],\n",
       "       [  7.58969951e-01,   5.72503172e-01,   1.40000000e+01,\n",
       "          2.00000000e+00],\n",
       "       [  1.03111128e-01,   4.40198223e-01,   2.80000000e+01,\n",
       "          3.00000000e+00],\n",
       "       [  6.14394062e-01,   5.41410943e-01,   4.00000000e+01,\n",
       "          2.00000000e+00],\n",
       "       [  3.29645415e-01,   7.30666707e-01,   4.20000000e+01,\n",
       "          4.00000000e+00],\n",
       "       [  8.84176864e-01,   3.65594954e-02,   4.00000000e+00,\n",
       "          0.00000000e+00],\n",
       "       [  1.45427206e-01,   4.31320730e-02,   1.00000000e+00,\n",
       "          1.00000000e+00],\n",
       "       [  4.21406099e-01,   1.54658986e-01,   4.90000000e+01,\n",
       "          2.00000000e+00],\n",
       "       [  9.50395574e-01,   3.71178744e-02,   2.70000000e+01,\n",
       "          2.00000000e+00],\n",
       "       [  9.06309067e-01,   8.44516936e-01,   4.30000000e+01,\n",
       "          2.00000000e+00],\n",
       "       [  2.82158338e-01,   4.54744612e-01,   2.90000000e+01,\n",
       "          2.00000000e+00],\n",
       "       [  6.79859129e-01,   7.69486199e-01,   3.20000000e+01,\n",
       "          3.00000000e+00],\n",
       "       [  6.18473684e-01,   2.51109778e-01,   3.10000000e+01,\n",
       "          2.00000000e+00],\n",
       "       [  5.38132687e-01,   8.69920825e-01,   4.50000000e+01,\n",
       "          0.00000000e+00],\n",
       "       [  3.12714809e-01,   1.74516267e-02,   1.70000000e+01,\n",
       "          3.00000000e+00],\n",
       "       [  8.74565513e-01,   7.93172689e-01,   3.80000000e+01,\n",
       "          4.00000000e+00],\n",
       "       [  1.61131225e-02,   6.16000778e-01,   3.90000000e+01,\n",
       "          3.00000000e+00],\n",
       "       [  3.93988799e-01,   4.62836048e-02,   4.80000000e+01,\n",
       "          3.00000000e+00],\n",
       "       [  7.89101322e-01,   4.17279961e-01,   2.00000000e+01,\n",
       "          4.00000000e+00],\n",
       "       [  9.68894775e-02,   9.07642151e-01,   3.00000000e+00,\n",
       "          4.00000000e+00],\n",
       "       [  2.26169758e-01,   8.21797210e-01,   1.30000000e+01,\n",
       "          2.00000000e+00],\n",
       "       [  4.54512934e-01,   9.82019084e-01,   7.00000000e+00,\n",
       "          3.00000000e+00],\n",
       "       [  5.82502343e-01,   2.90629844e-01,   3.70000000e+01,\n",
       "          0.00000000e+00],\n",
       "       [  2.46559314e-01,   4.54349986e-01,   5.00000000e+00,\n",
       "          3.00000000e+00],\n",
       "       [  1.77057358e-01,   4.71331120e-02,   2.00000000e+01,\n",
       "          0.00000000e+00],\n",
       "       [  5.76386842e-01,   2.57208196e-01,   1.50000000e+01,\n",
       "          4.00000000e+00],\n",
       "       [  2.45474572e-01,   4.50770634e-01,   4.00000000e+00,\n",
       "          1.00000000e+00],\n",
       "       [  2.69364288e-01,   3.54679738e-01,   0.00000000e+00,\n",
       "          4.00000000e+00],\n",
       "       [  6.55783202e-01,   3.71979520e-01,   4.80000000e+01,\n",
       "          2.00000000e+00],\n",
       "       [  8.60431713e-01,   9.18525014e-01,   4.00000000e+00,\n",
       "          4.00000000e+00],\n",
       "       [  2.72593028e-01,   1.73206182e-01,   4.10000000e+01,\n",
       "          4.00000000e+00],\n",
       "       [  6.27515469e-01,   8.40567742e-01,   2.60000000e+01,\n",
       "          2.00000000e+00],\n",
       "       [  4.03586306e-01,   3.57468312e-01,   3.00000000e+01,\n",
       "          0.00000000e+00],\n",
       "       [  7.62694393e-01,   5.34790102e-01,   3.10000000e+01,\n",
       "          0.00000000e+00],\n",
       "       [  8.54361765e-01,   3.70457690e-01,   3.70000000e+01,\n",
       "          1.00000000e+00],\n",
       "       [  5.48544495e-01,   9.03644854e-01,   1.50000000e+01,\n",
       "          1.00000000e+00],\n",
       "       [  6.10394315e-02,   5.38939123e-01,   5.00000000e+00,\n",
       "          0.00000000e+00],\n",
       "       [  6.68441765e-01,   6.23678783e-01,   2.60000000e+01,\n",
       "          4.00000000e+00],\n",
       "       [  6.45672742e-01,   1.97366592e-01,   3.00000000e+00,\n",
       "          4.00000000e+00],\n",
       "       [  6.49611383e-01,   5.78042881e-01,   1.10000000e+01,\n",
       "          3.00000000e+00],\n",
       "       [  5.43931872e-01,   1.49451779e-01,   1.90000000e+01,\n",
       "          3.00000000e+00],\n",
       "       [  5.04279858e-01,   6.71464905e-01,   1.00000000e+01,\n",
       "          0.00000000e+00],\n",
       "       [  1.98329657e-01,   5.74310324e-01,   4.10000000e+01,\n",
       "          0.00000000e+00],\n",
       "       [  2.07218363e-01,   1.43337608e-01,   1.40000000e+01,\n",
       "          4.00000000e+00],\n",
       "       [  6.56738648e-02,   4.05811176e-01,   2.40000000e+01,\n",
       "          1.00000000e+00],\n",
       "       [  2.56376047e-01,   5.81699915e-02,   2.40000000e+01,\n",
       "          3.00000000e+00],\n",
       "       [  2.04542143e-01,   7.98727578e-01,   9.00000000e+00,\n",
       "          4.00000000e+00],\n",
       "       [  1.49928277e-01,   4.28406449e-02,   4.80000000e+01,\n",
       "          3.00000000e+00],\n",
       "       [  5.95579496e-01,   5.95634996e-01,   1.30000000e+01,\n",
       "          0.00000000e+00],\n",
       "       [  7.08836740e-01,   8.40571889e-01,   2.40000000e+01,\n",
       "          4.00000000e+00],\n",
       "       [  5.39083019e-01,   6.31384743e-01,   2.20000000e+01,\n",
       "          2.00000000e+00],\n",
       "       [  4.96785411e-01,   5.03197865e-02,   2.40000000e+01,\n",
       "          0.00000000e+00],\n",
       "       [  4.93031491e-01,   2.67228818e-02,   3.20000000e+01,\n",
       "          1.00000000e+00],\n",
       "       [  7.61027572e-01,   2.28757198e-02,   3.30000000e+01,\n",
       "          1.00000000e+00],\n",
       "       [  4.37944055e-01,   3.26988840e-01,   3.30000000e+01,\n",
       "          4.00000000e+00],\n",
       "       [  4.14481484e-01,   6.23570504e-01,   3.80000000e+01,\n",
       "          1.00000000e+00],\n",
       "       [  3.65760419e-01,   8.57055480e-01,   2.60000000e+01,\n",
       "          3.00000000e+00]])"
      ]
     },
     "execution_count": 52,
     "metadata": {},
     "output_type": "execute_result"
    }
   ],
   "source": []
  },
  {
   "cell_type": "code",
   "execution_count": 40,
   "metadata": {
    "collapsed": true
   },
   "outputs": [],
   "source": [
    "decisions = -np.ones(queries.shape[0])"
   ]
  },
  {
   "cell_type": "code",
   "execution_count": 46,
   "metadata": {
    "collapsed": false
   },
   "outputs": [],
   "source": [
    "columns = (\n",
    "    \"query_id\",\n",
    "    \"user_id\",\n",
    "    \"robot_id\",\n",
    "    \"mission_id\",\n",
    "    \"operators_response\",\n",
    "    \"gcs_arival_time\",\n",
    "    \"level_of_autonomy\",\n",
    "    \"true_response\",\n",
    "    \"confidence\"\n",
    ")"
   ]
  },
  {
   "cell_type": "code",
   "execution_count": null,
   "metadata": {
    "collapsed": true
   },
   "outputs": [],
   "source": []
  },
  {
   "cell_type": "code",
   "execution_count": 48,
   "metadata": {
    "collapsed": true
   },
   "outputs": [],
   "source": [
    "query_data = pd.DataFrame(columns=columns)"
   ]
  },
  {
   "cell_type": "code",
   "execution_count": null,
   "metadata": {
    "collapsed": true
   },
   "outputs": [],
   "source": [
    "votes = np.zeros((len(past_feedback), queries.shape[0]))"
   ]
  }
 ],
 "metadata": {
  "anaconda-cloud": {},
  "kernelspec": {
   "display_name": "Python [default]",
   "language": "python",
   "name": "python2"
  }
 },
 "nbformat": 4,
 "nbformat_minor": 0
}
