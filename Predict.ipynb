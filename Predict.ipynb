{
 "cells": [
  {
   "cell_type": "code",
   "execution_count": 23,
   "metadata": {
    "collapsed": true
   },
   "outputs": [],
   "source": [
    "import json\n",
    "import requests\n",
    "import pandas as pd\n",
    "\n",
    "import requests\n",
    "import pandas as pd\n",
    "import numpy as np\n",
    "from sklearn.preprocessing import normalize\n",
    "import sklearn.cluster as skc"
   ]
  },
  {
   "cell_type": "code",
   "execution_count": 12,
   "metadata": {
    "collapsed": false
   },
   "outputs": [],
   "source": [
    "data = {\n",
    "    \"data\":{\n",
    "        \"query_id\":0,\n",
    "        \"robot_id\":0,\n",
    "        \"confidence\":0,\n",
    "        \"file_path\":\"ifarted.png\",\n",
    "        \"type\":0\n",
    "    }\n",
    "}"
   ]
  },
  {
   "cell_type": "code",
   "execution_count": 13,
   "metadata": {
    "collapsed": false
   },
   "outputs": [
    {
     "data": {
      "text/plain": [
       "{'confidence': 0,\n",
       " 'file_path': 'ifarted.png',\n",
       " 'query_id': 0,\n",
       " 'robot_id': 0,\n",
       " 'type': 0}"
      ]
     },
     "execution_count": 13,
     "metadata": {},
     "output_type": "execute_result"
    }
   ],
   "source": [
    "data['data']"
   ]
  },
  {
   "cell_type": "code",
   "execution_count": 57,
   "metadata": {
    "collapsed": false
   },
   "outputs": [
    {
     "name": "stdout",
     "output_type": "stream",
     "text": [
      "{u'data': [{u'cluster_id': -1, u'confidence': 0.94, u'user_id': 0, u'preferred_level_of_autonomy': 0, u'true_response': 0, u'mission_id': 0, u'query_id': 643, u'operators_response': 2, u'level_of_autonomy': 0, u'robot_id': 3, u'gcs_arrival_time': 3, u'type': u'1'}, {u'cluster_id': -1, u'confidence': 0.5, u'user_id': 0, u'preferred_level_of_autonomy': 0, u'true_response': 2, u'mission_id': 0, u'query_id': 679, u'operators_response': 3, u'level_of_autonomy': 0, u'robot_id': 2, u'gcs_arrival_time': 2, u'type': u'3'}, {u'cluster_id': -1, u'confidence': 0.5, u'user_id': 0, u'preferred_level_of_autonomy': 0, u'true_response': 0, u'mission_id': 0, u'query_id': 680, u'operators_response': 2, u'level_of_autonomy': 1, u'robot_id': 3, u'gcs_arrival_time': 2, u'type': u'0'}], u'response': True}\n"
     ]
    }
   ],
   "source": [
    "json={\n",
    "    'participant_id': 0\n",
    "}\n",
    "\n",
    "req = requests.post(\"http://ec2-52-24-126-225.us-west-2.compute.amazonaws.com:81/iris/retrieve-participant-preferences\", json=json)\n",
    "\n",
    "if req.ok:\n",
    "    print(req.json())"
   ]
  },
  {
   "cell_type": "code",
   "execution_count": null,
   "metadata": {
    "collapsed": true
   },
   "outputs": [],
   "source": []
  },
  {
   "cell_type": "code",
   "execution_count": 33,
   "metadata": {
    "collapsed": false,
    "scrolled": false
   },
   "outputs": [
    {
     "name": "stderr",
     "output_type": "stream",
     "text": [
      "C:\\Users\\eddyc\\Anaconda2\\lib\\site-packages\\sklearn\\utils\\validation.py:420: DataConversionWarning: Data with input dtype object was converted to float64 by the normalize function.\n",
      "  warnings.warn(msg, DataConversionWarning)\n"
     ]
    }
   ],
   "source": [
    "json={\n",
    "    'participant_id': 0\n",
    "}\n",
    "\n",
    "req = requests.post(\"http://ec2-52-24-126-225.us-west-2.compute.amazonaws.com:81/iris/retrieve-participant-preferences\", json=json)\n",
    "\n",
    "if req.ok:\n",
    "    data = pd.DataFrame(req.json()['data'])\n",
    "\n",
    "    mission_queries = data[[\"query_id\", \"confidence\", \"type\"]].as_matrix()\n",
    "\n",
    "    model = skc.DBSCAN(eps=0.011, min_samples=4).fit(normalize(mission_queries[:, 1:]))\n",
    "\n",
    "    labels = model.labels_\n",
    "\n",
    "    data['cluster_id'] = labels"
   ]
  },
  {
   "cell_type": "code",
   "execution_count": 43,
   "metadata": {
    "collapsed": false
   },
   "outputs": [
    {
     "data": {
      "text/plain": [
       "array([[643L, 0.94, u'1'],\n",
       "       [679L, 0.5, u'3'],\n",
       "       [680L, 0.5, u'0']], dtype=object)"
      ]
     },
     "execution_count": 43,
     "metadata": {},
     "output_type": "execute_result"
    }
   ],
   "source": [
    "mission_queries"
   ]
  },
  {
   "cell_type": "code",
   "execution_count": 48,
   "metadata": {
    "collapsed": false
   },
   "outputs": [],
   "source": [
    "past_queries = mission_queries[:2, :]"
   ]
  },
  {
   "cell_type": "code",
   "execution_count": 49,
   "metadata": {
    "collapsed": false
   },
   "outputs": [],
   "source": [
    "new_queries = mission_queries[2:, :]"
   ]
  },
  {
   "cell_type": "code",
   "execution_count": 51,
   "metadata": {
    "collapsed": false
   },
   "outputs": [
    {
     "data": {
      "text/plain": [
       "array([[643L, 0.94, u'1'],\n",
       "       [679L, 0.5, u'3']], dtype=object)"
      ]
     },
     "execution_count": 51,
     "metadata": {},
     "output_type": "execute_result"
    }
   ],
   "source": [
    "past_queries"
   ]
  },
  {
   "cell_type": "code",
   "execution_count": null,
   "metadata": {
    "collapsed": true
   },
   "outputs": [],
   "source": [
    "user_preferences"
   ]
  },
  {
   "cell_type": "code",
   "execution_count": null,
   "metadata": {
    "collapsed": true
   },
   "outputs": [],
   "source": [
    "# Allocate space for all votes.\n",
    "votes = np.zeros((len(user_preferences), queries.shape[0]))\n",
    "\n",
    "# Get the feedback from every survey and get the intended level of autonomy.\n",
    "for i, preferences in enumerate(user_preferences):\n",
    "    \n",
    "    # Get cluster ids from a mission.\n",
    "    cluster_id = cluster(queries, get_mission_queries(mission_number))\n",
    "    \n",
    "    # Map the cluster id to the user's preference.\n",
    "    mp = np.arange(0,max(cluster_id)+1)\n",
    "    mp[user_preferences[i].keys()] = user_preferences[i].values()\n",
    "    votes[i] = mp[cluster_id]\n",
    "    \n",
    "# Allocate space for level of autonomy decisions.\n",
    "decisions = np.zeros((queries.shape[0]))\n",
    "\n",
    "# Find the most popular action to take from user's past feedback.\n",
    "for i, vote in enumerate(votes.T):\n",
    "    vote_counter = Counter(vote)\n",
    "    decisions[i] = int(vote_counter.most_common(1)[0][0])\n",
    "    \n",
    "print(decisions)"
   ]
  },
  {
   "cell_type": "code",
   "execution_count": null,
   "metadata": {
    "collapsed": true
   },
   "outputs": [],
   "source": [
    "data = "
   ]
  },
  {
   "cell_type": "code",
   "execution_count": null,
   "metadata": {
    "collapsed": true
   },
   "outputs": [],
   "source": []
  }
 ],
 "metadata": {
  "anaconda-cloud": {},
  "kernelspec": {
   "display_name": "Python [default]",
   "language": "python",
   "name": "python2"
  },
  "language_info": {
   "codemirror_mode": {
    "name": "ipython",
    "version": 2
   },
   "file_extension": ".py",
   "mimetype": "text/x-python",
   "name": "python",
   "nbconvert_exporter": "python",
   "pygments_lexer": "ipython2",
   "version": "2.7.12"
  }
 },
 "nbformat": 4,
 "nbformat_minor": 1
}
