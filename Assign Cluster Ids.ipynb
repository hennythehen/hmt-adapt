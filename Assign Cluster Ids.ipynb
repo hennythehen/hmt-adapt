{
 "cells": [
  {
   "cell_type": "code",
   "execution_count": 4,
   "metadata": {
    "collapsed": true
   },
   "outputs": [],
   "source": [
    "import requests\n",
    "import pandas as pd\n",
    "import numpy as np\n",
    "from sklearn.preprocessing import normalize\n",
    "import sklearn.cluster as skc"
   ]
  },
  {
   "cell_type": "code",
   "execution_count": 5,
   "metadata": {
    "collapsed": false,
    "scrolled": true
   },
   "outputs": [
    {
     "name": "stdout",
     "output_type": "stream",
     "text": [
      "[643L -1L]\n",
      "[679L -1L]\n",
      "[680L -1L]\n",
      "[700L -1L]\n",
      "[701L -1L]\n",
      "[702L -1L]\n",
      "[703L -1L]\n",
      "[784L -1L]\n",
      "[785L -1L]\n",
      "[786L -1L]\n",
      "[787L -1L]\n",
      "Query Successful\n"
     ]
    },
    {
     "name": "stderr",
     "output_type": "stream",
     "text": [
      "C:\\Users\\eddyc\\Anaconda2\\lib\\site-packages\\sklearn\\utils\\validation.py:420: DataConversionWarning: Data with input dtype object was converted to float64 by the normalize function.\n",
      "  warnings.warn(msg, DataConversionWarning)\n"
     ]
    }
   ],
   "source": [
    "json={\n",
    "    'participant_id': 0\n",
    "}\n",
    "\n",
    "req = requests.post(\"http://ec2-52-24-126-225.us-west-2.compute.amazonaws.com:81/iris/retrieve-participant-queries\", json=json)\n",
    "\n",
    "if req.ok:\n",
    "    data = pd.DataFrame(req.json()['data'])\n",
    "\n",
    "    mission_queries = data[[\"query_id\", \"gcs_arrival_time\", \"type\"]].as_matrix()\n",
    "\n",
    "    model = skc.DBSCAN(eps=0.011, min_samples=4).fit(normalize(mission_queries[:, 1:]))\n",
    "\n",
    "    labels = model.labels_\n",
    "\n",
    "    cluster_assignments = np.stack((mission_queries[:, 0], labels), axis=1)\n",
    "\n",
    "    response = dict()\n",
    "\n",
    "    for query in cluster_assignments:\n",
    "        print(query)\n",
    "        response[query[0]] = query[1]\n",
    "\n",
    "    json = {\n",
    "        \"cluster_assignments\":response\n",
    "    } \n",
    "\n",
    "    req = requests.post(\"http://ec2-52-24-126-225.us-west-2.compute.amazonaws.com:81/iris/insert-cluster-ids\", json=json)\n",
    "    print(\"Query Successful\")\n",
    "else:\n",
    "    print(\"Query NOT Successful\")"
   ]
  },
  {
   "cell_type": "code",
   "execution_count": 6,
   "metadata": {
    "collapsed": false
   },
   "outputs": [
    {
     "data": {
      "text/plain": [
       "array([[643L, -1L],\n",
       "       [679L, -1L],\n",
       "       [680L, -1L],\n",
       "       [700L, -1L],\n",
       "       [701L, -1L],\n",
       "       [702L, -1L],\n",
       "       [703L, -1L],\n",
       "       [784L, -1L],\n",
       "       [785L, -1L],\n",
       "       [786L, -1L],\n",
       "       [787L, -1L]], dtype=object)"
      ]
     },
     "execution_count": 6,
     "metadata": {},
     "output_type": "execute_result"
    }
   ],
   "source": [
    "cluster_assignments"
   ]
  },
  {
   "cell_type": "code",
   "execution_count": null,
   "metadata": {
    "collapsed": true
   },
   "outputs": [],
   "source": []
  }
 ],
 "metadata": {
  "anaconda-cloud": {},
  "kernelspec": {
   "display_name": "Python [default]",
   "language": "python",
   "name": "python2"
  },
  "language_info": {
   "codemirror_mode": {
    "name": "ipython",
    "version": 2
   },
   "file_extension": ".py",
   "mimetype": "text/x-python",
   "name": "python",
   "nbconvert_exporter": "python",
   "pygments_lexer": "ipython2",
   "version": "2.7.12"
  }
 },
 "nbformat": 4,
 "nbformat_minor": 1
}
